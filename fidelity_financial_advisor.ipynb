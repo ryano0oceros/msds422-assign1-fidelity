{
 "cells": [
  {
   "cell_type": "markdown",
   "metadata": {},
   "source": [
    "# Fidelity Financial Advisor AI Agent\n",
    "\n",
    "This notebook uses the LangChain and LangGraph frameworks to build an AI agent that acts as a Fidelity financial advisor, answering user questions about retirement planning."
   ]
  },
  {
   "cell_type": "code",
   "execution_count": 3,
   "metadata": {},
   "outputs": [
    {
     "name": "stderr",
     "output_type": "stream",
     "text": [
      "USER_AGENT environment variable not set, consider setting it to identify your requests.\n"
     ]
    }
   ],
   "source": [
    "# Import necessary libraries\n",
    "from langchain_community.document_loaders import WebBaseLoader\n",
    "from langchain_community.vectorstores import Chroma\n",
    "from langchain_core.output_parsers import StrOutputParser\n",
    "from langchain_core.runnables import RunnablePassthrough\n",
    "from langchain_openai import ChatOpenAI, OpenAIEmbeddings\n",
    "from langgraph.graph import StateGraph, END\n",
    "import os\n",
    "from typing import TypedDict, Annotated, Dict, Any"
   ]
  },
  {
   "cell_type": "code",
   "execution_count": 4,
   "metadata": {},
   "outputs": [],
   "source": [
    "# Load the Fidelity webpage into a document\n",
    "loader = WebBaseLoader(\"https://www.fidelity.com/retirement-planning/overview\")\n",
    "document = loader.load()"
   ]
  },
  {
   "cell_type": "code",
   "execution_count": 5,
   "metadata": {},
   "outputs": [],
   "source": [
    "# Initialize embeddings and create the Chroma vector store\n",
    "embeddings = OpenAIEmbeddings()\n",
    "vectorstore = Chroma.from_documents(\n",
    "    documents=document,\n",
    "    embedding=embeddings,\n",
    "    persist_directory=\"./chroma_db\"\n",
    ")\n",
    "\n",
    "# Create a retriever\n",
    "retriever = vectorstore.as_retriever()"
   ]
  },
  {
   "cell_type": "code",
   "execution_count": 6,
   "metadata": {},
   "outputs": [
    {
     "data": {
      "text/plain": [
       "<langgraph.graph.state.StateGraph at 0x11ce2ece0>"
      ]
     },
     "execution_count": 6,
     "metadata": {},
     "output_type": "execute_result"
    }
   ],
   "source": [
    "# Define the state schema\n",
    "class State(TypedDict):\n",
    "    input: str\n",
    "    output: str\n",
    "\n",
    "# Initialize the language model\n",
    "llm = ChatOpenAI(temperature=0)\n",
    "\n",
    "def process_query(state: Dict[str, Any]) -> Dict[str, Any]:\n",
    "    # Get relevant context\n",
    "    context = retriever.invoke(state[\"input\"])\n",
    "    \n",
    "    # Generate response using the LLM\n",
    "    prompt = f\"Context: {context}\\nQuestion: {state['input']}\\nProvide a detailed answer about retirement planning based on the context.\"\n",
    "    response = llm.invoke(prompt)\n",
    "    \n",
    "    # Return updated state\n",
    "    return {\"input\": state[\"input\"], \"output\": response.content}\n",
    "\n",
    "# Create the agent graph\n",
    "workflow = StateGraph(state_schema=State)\n",
    "\n",
    "# Add the processing node\n",
    "workflow.add_node(\"process\", process_query)\n",
    "\n",
    "# Set the entry point\n",
    "workflow.set_entry_point(\"process\")\n",
    "\n",
    "# Add the final state\n",
    "workflow.add_edge(\"process\", END)"
   ]
  },
  {
   "cell_type": "code",
   "execution_count": 7,
   "metadata": {},
   "outputs": [
    {
     "name": "stdout",
     "output_type": "stream",
     "text": [
      "Answer: When planning for retirement, there are several key factors to consider to ensure a secure and comfortable retirement. Here are some important aspects to keep in mind:\n",
      "\n",
      "1. Setting Clear Goals: Define your retirement goals, including the lifestyle you want to maintain, any travel or hobbies you wish to pursue, and any financial milestones you want to achieve.\n",
      "\n",
      "2. Savings and Investments: Determine how much you need to save for retirement by considering factors such as your current age, desired retirement age, life expectancy, and expected expenses. Utilize retirement accounts like Roth IRAs, Traditional IRAs, and 401(k) plans to save and invest for retirement.\n",
      "\n",
      "3. Asset Allocation: Create a diversified investment portfolio that balances risk and return based on your risk tolerance, time horizon, and financial goals. Consider a mix of stocks, bonds, and other assets to help grow your retirement savings.\n",
      "\n",
      "4. Social Security and Pension Benefits: Understand how Social Security benefits and any pension plans you may have will factor into your retirement income. Consider the best time to start claiming Social Security benefits to maximize your payments.\n",
      "\n",
      "5. Healthcare Costs: Plan for healthcare expenses in retirement, including Medicare coverage, supplemental insurance, and long-term care costs. Factor in potential medical expenses and how they may impact your retirement budget.\n",
      "\n",
      "6. Estate Planning: Create or update your estate plan to ensure your assets are distributed according to your wishes. Consider setting up a will, trust, and power of attorney to protect your assets and provide for your loved ones.\n",
      "\n",
      "7. Financial Advisor Guidance: Seek advice from a financial advisor or retirement planning expert to help you navigate the complexities of retirement planning, make informed decisions, and stay on track to meet your retirement goals.\n",
      "\n",
      "By considering these key factors and taking a proactive approach to retirement planning, you can better prepare for a financially secure and fulfilling retirement.\n"
     ]
    }
   ],
   "source": [
    "# Compile the graph into an executable chain\n",
    "app = workflow.compile()\n",
    "\n",
    "# Example usage\n",
    "question = \"What are the key factors to consider when planning for retirement?\"\n",
    "result = app.invoke({\"input\": question})\n",
    "print(\"Answer:\", result[\"output\"])"
   ]
  },
  {
   "cell_type": "markdown",
   "metadata": {},
   "source": [
    "## Document Relevance Verification\n",
    "Before answering questions, we'll verify if the retrieved document content is relevant to the user's retirement planning question. This helps ensure we provide accurate, contextual responses."
   ]
  },
  {
   "cell_type": "code",
   "execution_count": 8,
   "metadata": {},
   "outputs": [],
   "source": [
    "# Create a prompt template for checking document relevance\n",
    "from langchain.prompts import PromptTemplate\n",
    "\n",
    "relevance_prompt = PromptTemplate(\n",
    "    template=\"\"\"You are a financial advisor answering user question about retirement planning. \\n\n",
    "Here is the retrieved document: \\n\\n {context} \\n\\n\n",
    "Here is the user question: {question} \\n\n",
    "If the document contains keyword(s) or semantic meaning related to the user question, grade it as relevant. \\n\n",
    "Give a binary score 'yes' or 'no' score to indicate whether the document is relevant to the question.\"\"\",\n",
    "    input_variables=[\"context\", \"question\"]\n",
    ")\n",
    "\n",
    "# Create the relevance checking chain\n",
    "relevance_chain = (\n",
    "    {\"context\": retriever, \"question\": RunnablePassthrough()} \n",
    "    | relevance_prompt\n",
    "    | llm\n",
    "    | StrOutputParser()\n",
    ")"
   ]
  },
  {
   "cell_type": "code",
   "execution_count": 9,
   "metadata": {},
   "outputs": [],
   "source": [
    "def process_query(state: Dict[str, Any]) -> Dict[str, Any]:\n",
    "    # Get relevant context\n",
    "    context = retriever.invoke(state[\"input\"])\n",
    "    \n",
    "    # Check relevance\n",
    "    relevance = relevance_chain.invoke({\n",
    "        \"context\": context,\n",
    "        \"question\": state[\"input\"]\n",
    "    })\n",
    "    \n",
    "    if \"yes\" in relevance.lower():\n",
    "        # Generate response using the LLM\n",
    "        response = llm.invoke(\n",
    "            f\"Context: {context}\\nQuestion: {state['input']}\\nAs a Fidelity financial advisor, provide a detailed answer about retirement planning based on the context.\"\n",
    "        )\n",
    "        return {\"input\": state[\"input\"], \"output\": response.content}\n",
    "    else:\n",
    "        return {\n",
    "            \"input\": state[\"input\"], \n",
    "            \"output\": \"I apologize, but I don't have relevant information to answer your retirement planning question accurately. Please try asking a different question specifically about retirement planning.\"\n",
    "        }"
   ]
  },
  {
   "cell_type": "code",
   "execution_count": 10,
   "metadata": {},
   "outputs": [
    {
     "name": "stdout",
     "output_type": "stream",
     "text": [
      "Testing the Financial Advisor AI Agent:\n",
      "\n",
      "\n",
      "Question: What are the steps that I should take to determine how much I need to save for retirement?\n",
      "\n",
      "Answer: To determine how much you need to save for retirement, you should follow these steps:\n",
      "\n",
      "1. Assess Your Current Financial Situation: Start by evaluating your current income, expenses, assets, and debts. This will give you a clear picture of where you stand financially.\n",
      "\n",
      "2. Set Retirement Goals: Determine the lifestyle you want to have during retirement. Consider factors such as where you want to live, travel plans, healthcare expenses, and any other financial goals you may have.\n",
      "\n",
      "3. Estimate Your Retirement Expenses: Calculate your expected expenses during retirement, including housing, healthcare, food, transportation, and leisure activities. Don't forget to account for inflation and potential healthcare costs.\n",
      "\n",
      "4. Calculate Your Retirement Income: Determine your potential sources of retirement income, such as Social Security, pensions, investments, and any other savings accounts. This will help you understand how much you need to save on your own.\n",
      "\n",
      "5. Use Retirement Planning Tools: Utilize retirement planning tools provided by financial institutions like Fidelity to create a personalized retirement plan. These tools can help you estimate how much you need to save based on your goals and financial situation.\n",
      "\n",
      "6. Adjust Your Savings Plan: Based on the calculations from the retirement planning tools, adjust your savings plan to meet your retirement goals. Consider increasing your contributions to retirement accounts like IRAs or 401(k)s to reach your target savings amount.\n",
      "\n",
      "7. Monitor and Review Regularly: It's essential to regularly review your retirement plan and make adjustments as needed. Life circumstances and financial goals may change, so staying proactive in your retirement planning is crucial.\n",
      "\n",
      "By following these steps and utilizing the resources provided by financial institutions like Fidelity, you can create a solid retirement plan that aligns with your financial goals and helps you achieve a comfortable retirement.\n",
      "\n",
      "--------------------------------------------------------------------------------\n",
      "\n",
      "Question: Can you help me calculate my retirement savings target?\n",
      "\n",
      "Answer: Retirement planning is a crucial aspect of financial management, and setting a retirement savings target is an essential step in ensuring a comfortable and secure retirement. Here are some key points to consider when calculating your retirement savings target based on the information provided:\n",
      "\n",
      "1. Determine your retirement goals: Start by identifying your desired lifestyle in retirement. Consider factors such as where you want to live, travel plans, healthcare expenses, and any other activities or hobbies you wish to pursue.\n",
      "\n",
      "2. Estimate your retirement expenses: Calculate your expected expenses in retirement, including housing, healthcare, food, transportation, and leisure activities. It's essential to account for inflation and potential healthcare costs as you age.\n",
      "\n",
      "3. Assess your current savings and investments: Take stock of your current retirement savings, including any employer-sponsored retirement accounts, individual retirement accounts (IRAs), and other investments. Consider how much you are contributing regularly and how your investments are performing.\n",
      "\n",
      "4. Use a retirement calculator: Utilize online retirement calculators or consult with a financial advisor to estimate how much you need to save for retirement based on your goals, expenses, and current savings. These tools can help you determine a target savings amount and a timeline for achieving it.\n",
      "\n",
      "5. Adjust your savings plan: If the calculated retirement savings target seems daunting, consider adjusting your savings rate, increasing contributions to retirement accounts, or exploring investment options that offer growth potential.\n",
      "\n",
      "6. Monitor and adjust: Regularly review your retirement savings plan and make adjustments as needed based on changes in your financial situation, goals, or market conditions. It's essential to stay proactive and flexible in your retirement planning approach.\n",
      "\n",
      "By following these steps and seeking guidance from financial professionals, you can create a solid retirement savings plan that aligns with your goals and helps you achieve financial security in your retirement years. Remember that starting early and being consistent in your savings efforts are key factors in reaching your retirement savings target.\n",
      "\n",
      "--------------------------------------------------------------------------------\n",
      "\n",
      "Question: What's the best recipe for chocolate chip cookies?\n",
      "\n",
      "Answer: Retirement planning is a crucial aspect of financial management that involves setting aside funds and making strategic decisions to ensure a comfortable and secure retirement. Fidelity, a renowned financial services company, offers guidance, tools, and planning information to help individuals navigate through the complexities of retirement planning.\n",
      "\n",
      "Fidelity's retirement planning services aim to provide personalized assistance at every step of the retirement journey. Whether you are in the saving phase or transitioning into retirement, Fidelity offers tailored solutions to help you achieve your retirement goals. By creating a flexible plan that can be adjusted as life circumstances change, individuals can stay on track towards their retirement objectives.\n",
      "\n",
      "One of the key features of Fidelity's retirement planning services is the provision of timely insights and tips on saving and investing. These insights are designed to fuel progress and help individuals make informed decisions about their retirement finances. Additionally, Fidelity offers 24/7 tracking tools that allow individuals to monitor their progress towards their retirement goals, providing a clear picture of their financial standing.\n",
      "\n",
      "For those who are saving for retirement, Fidelity offers a savings and investing path to help individuals reach their retirement goals, regardless of life's uncertainties. On the other hand, for individuals who are ready to transition into retirement, Fidelity assists in mapping out a plan to live their ideal retirement, ensuring a smooth and comfortable transition.\n",
      "\n",
      "In terms of practical steps to jumpstart your retirement journey, Fidelity recommends opening the right retirement account to maximize tax advantages and aid in retirement savings. Additionally, existing customers can create or access a free personalized plan to align their retirement goals with a strategic financial roadmap.\n",
      "\n",
      "For individuals seeking hands-on assistance, Fidelity provides access to dedicated advisors or phone-based advisory teams to offer personalized guidance and support throughout the retirement planning process. By leveraging Fidelity's expertise and resources, individuals can make informed decisions and secure their financial future in retirement.\n",
      "\n",
      "In conclusion, Fidelity's comprehensive retirement planning services offer a holistic approach to financial security in retirement. By leveraging their guidance, tools, and planning information, individuals can navigate the complexities of retirement planning with confidence and achieve their desired retirement lifestyle.\n",
      "\n",
      "--------------------------------------------------------------------------------\n"
     ]
    }
   ],
   "source": [
    "# Test cases\n",
    "test_questions = [\n",
    "    # Relevant question\n",
    "    \"What are the steps that I should take to determine how much I need to save for retirement?\",\n",
    "    \n",
    "    # Similar question\n",
    "    \"Can you help me calculate my retirement savings target?\",\n",
    "    \n",
    "    # Irrelevant question\n",
    "    \"What's the best recipe for chocolate chip cookies?\"\n",
    "]\n",
    "\n",
    "print(\"Testing the Financial Advisor AI Agent:\\n\")\n",
    "for question in test_questions:\n",
    "    print(f\"\\nQuestion: {question}\")\n",
    "    result = app.invoke({\"input\": question})\n",
    "    print(f\"\\nAnswer: {result['output']}\\n\")\n",
    "    print(\"-\" * 80)"
   ]
  },
  {
   "cell_type": "markdown",
   "metadata": {},
   "source": [
    "## Loading Fund Information\n",
    "We'll use PyMuPDF (fitz) to load and process the Fidelity Freedom® 2045 Fund (FFFGX) document. This will allow us to incorporate specific fund information into our AI advisor's knowledge base."
   ]
  },
  {
   "cell_type": "code",
   "execution_count": 11,
   "metadata": {},
   "outputs": [
    {
     "data": {
      "text/plain": [
       "['47ce40e6-ed90-44cd-803b-533ae85384d5']"
      ]
     },
     "execution_count": 11,
     "metadata": {},
     "output_type": "execute_result"
    }
   ],
   "source": [
    "import fitz  # PyMuPDF\n",
    "\n",
    "def load_fund_document(pdf_path: str) -> str:\n",
    "    \"\"\"\n",
    "    Load and extract text from the Fidelity Freedom 2045 Fund PDF document.\n",
    "    \"\"\"\n",
    "    try:\n",
    "        # Open the PDF document\n",
    "        doc = fitz.open(pdf_path)\n",
    "        \n",
    "        # Extract text from the first page (fund information page)\n",
    "        text = doc[0].get_text()\n",
    "        \n",
    "        # Close the document\n",
    "        doc.close()\n",
    "        \n",
    "        return text\n",
    "        \n",
    "    except Exception as e:\n",
    "        print(f\"Error loading PDF: {e}\")\n",
    "        return \"\"\n",
    "\n",
    "# Load the fund document\n",
    "fund_pdf_path = \"fidelity_freedom_2045.pdf\" \n",
    "fund_info = load_fund_document(fund_pdf_path)\n",
    "\n",
    "# Create a document for the vector store\n",
    "from langchain_core.documents import Document\n",
    "\n",
    "fund_doc = Document(\n",
    "    page_content=fund_info,\n",
    "    metadata={\n",
    "        \"source\": \"Fidelity Freedom 2045 Fund (FFFGX) Information\",\n",
    "        \"type\": \"fund_document\"\n",
    "    }\n",
    ")\n",
    "\n",
    "# Add to our existing vector store\n",
    "vectorstore.add_documents([fund_doc])"
   ]
  },
  {
   "cell_type": "code",
   "execution_count": 20,
   "metadata": {},
   "outputs": [
    {
     "name": "stderr",
     "output_type": "stream",
     "text": [
      "INFO:__main__:Loading PDF document...\n",
      "INFO:__main__:Content preview: QUARTERLY FUND REVIEW  |   AS OF MARCH 31, 2025\n",
      "Fidelity Freedom® 2045 Fund\n",
      "Investment ApproachFUND INFORMATION\n",
      "•Fidelity Freedom® Funds (the Funds) are designed so that the target date referenced in \n",
      "INFO:__main__:Created 92 text chunks\n",
      "INFO:httpx:HTTP Request: POST https://api.openai.com/v1/embeddings \"HTTP/1.1 200 OK\"\n",
      "INFO:__main__:Vector store created successfully\n"
     ]
    },
    {
     "name": "stdout",
     "output_type": "stream",
     "text": [
      "Fund Document Analysis:\n",
      "\n"
     ]
    },
    {
     "name": "stderr",
     "output_type": "stream",
     "text": [
      "INFO:httpx:HTTP Request: POST https://api.openai.com/v1/embeddings \"HTTP/1.1 200 OK\"\n",
      "INFO:httpx:HTTP Request: POST https://api.openai.com/v1/chat/completions \"HTTP/1.1 200 OK\"\n"
     ]
    },
    {
     "name": "stdout",
     "output_type": "stream",
     "text": [
      "Question: What is the name of this fund?\n",
      "Answer: The name of this fund is Fidelity Freedom Fund.\n",
      "--------------------------------------------------------------------------------\n",
      "\n"
     ]
    },
    {
     "name": "stderr",
     "output_type": "stream",
     "text": [
      "INFO:httpx:HTTP Request: POST https://api.openai.com/v1/embeddings \"HTTP/1.1 200 OK\"\n",
      "INFO:httpx:HTTP Request: POST https://api.openai.com/v1/chat/completions \"HTTP/1.1 200 OK\"\n"
     ]
    },
    {
     "name": "stdout",
     "output_type": "stream",
     "text": [
      "Question: Who is the fund manager?\n",
      "Answer: The fund manager of Fidelity® Series Growth Company Fund is Steve Wymer.\n",
      "--------------------------------------------------------------------------------\n",
      "\n"
     ]
    },
    {
     "name": "stderr",
     "output_type": "stream",
     "text": [
      "INFO:httpx:HTTP Request: POST https://api.openai.com/v1/embeddings \"HTTP/1.1 200 OK\"\n",
      "INFO:httpx:HTTP Request: POST https://api.openai.com/v1/chat/completions \"HTTP/1.1 200 OK\"\n"
     ]
    },
    {
     "name": "stdout",
     "output_type": "stream",
     "text": [
      "Question: What is the calendar year return for 2022 for this fund and S&P 500?\n",
      "Answer: The calendar year return for 2022 for the Fidelity Freedom 2045 Fund is 0.07% and for the S&P 500 Index is 8.25%.\n",
      "--------------------------------------------------------------------------------\n",
      "\n"
     ]
    },
    {
     "name": "stderr",
     "output_type": "stream",
     "text": [
      "INFO:httpx:HTTP Request: POST https://api.openai.com/v1/embeddings \"HTTP/1.1 200 OK\"\n",
      "INFO:httpx:HTTP Request: POST https://api.openai.com/v1/chat/completions \"HTTP/1.1 200 OK\"\n"
     ]
    },
    {
     "name": "stdout",
     "output_type": "stream",
     "text": [
      "Question: What is the Portfolio Net Assets?\n",
      "Answer: Information not found in the document.\n",
      "--------------------------------------------------------------------------------\n",
      "\n"
     ]
    },
    {
     "name": "stderr",
     "output_type": "stream",
     "text": [
      "INFO:httpx:HTTP Request: POST https://api.openai.com/v1/embeddings \"HTTP/1.1 200 OK\"\n",
      "INFO:httpx:HTTP Request: POST https://api.openai.com/v1/chat/completions \"HTTP/1.1 200 OK\"\n"
     ]
    },
    {
     "name": "stdout",
     "output_type": "stream",
     "text": [
      "Question: What is the Morningstar rating for this fund? How many funds were used to rate this fund?\n",
      "Answer: The Morningstar rating for this fund is not provided in the document. The document only mentions the number of funds in the Morningstar category, which are 190, 180, 156, and 105.\n",
      "--------------------------------------------------------------------------------\n",
      "\n"
     ]
    },
    {
     "name": "stderr",
     "output_type": "stream",
     "text": [
      "INFO:backoff:Backing off send_request(...) for 0.6s (requests.exceptions.ReadTimeout: HTTPSConnectionPool(host='us.i.posthog.com', port=443): Read timed out. (read timeout=15))\n"
     ]
    }
   ],
   "source": [
    "from langchain_openai import ChatOpenAI\n",
    "from langchain_core.messages import HumanMessage\n",
    "from langchain.text_splitter import RecursiveCharacterTextSplitter\n",
    "from langchain_community.vectorstores import Chroma\n",
    "from langchain_openai import OpenAIEmbeddings\n",
    "import logging\n",
    "import PyPDF2\n",
    "\n",
    "# Set up logging\n",
    "logging.basicConfig(level=logging.INFO)\n",
    "logger = logging.getLogger(__name__)\n",
    "\n",
    "# Initialize the ChatOpenAI model\n",
    "llm = ChatOpenAI(temperature=0)\n",
    "\n",
    "try:\n",
    "    # Load and process the PDF document using PyPDF2\n",
    "    logger.info(\"Loading PDF document...\")\n",
    "    with open(\"fidelity_freedom_2045.pdf\", 'rb') as file:\n",
    "        pdf_reader = PyPDF2.PdfReader(file)\n",
    "        text_content = \"\"\n",
    "        for page in pdf_reader.pages:\n",
    "            text_content += page.extract_text()\n",
    "    \n",
    "    logger.info(f\"Content preview: {text_content[:200]}\")\n",
    "    \n",
    "    if not text_content.strip():\n",
    "        raise ValueError(\"No text content extracted from PDF\")\n",
    "\n",
    "    # Split the document into chunks\n",
    "    text_splitter = RecursiveCharacterTextSplitter(\n",
    "        chunk_size=500,\n",
    "        chunk_overlap=50,\n",
    "        length_function=len,\n",
    "        separators=[\"\\n\\n\", \"\\n\", \" \", \"\"]\n",
    "    )\n",
    "    splits = text_splitter.create_documents([text_content])\n",
    "    logger.info(f\"Created {len(splits)} text chunks\")\n",
    "\n",
    "    if not splits:\n",
    "        raise ValueError(\"No text chunks created - PDF might be empty or unreadable\")\n",
    "\n",
    "    # Create vector store\n",
    "    embeddings = OpenAIEmbeddings(\n",
    "        model=\"text-embedding-ada-002\",\n",
    "        chunk_size=1000\n",
    "    )\n",
    "\n",
    "    # Create vector store from texts\n",
    "    texts = [split.page_content for split in splits]\n",
    "    vectorstore = Chroma.from_texts(\n",
    "        texts=texts,\n",
    "        embedding=embeddings,\n",
    "        persist_directory=\"chroma_db\"\n",
    "    )\n",
    "    logger.info(\"Vector store created successfully\")\n",
    "\n",
    "    # Define the questions to ask about the fund\n",
    "    fund_questions = [\n",
    "        \"What is the name of this fund?\",\n",
    "        \"Who is the fund manager?\",\n",
    "        \"What is the calendar year return for 2022 for this fund and S&P 500?\",\n",
    "        \"What is the Portfolio Net Assets?\",\n",
    "        \"What is the Morningstar rating for this fund? How many funds were used to rate this fund?\"\n",
    "    ]\n",
    "\n",
    "    # Create a function to format the question with relevant context\n",
    "    def get_relevant_context(question: str) -> str:\n",
    "        try:\n",
    "            # Search for relevant chunks in the vector store\n",
    "            docs = vectorstore.similarity_search(question, k=2)\n",
    "            # Combine the content from relevant chunks\n",
    "            return \"\\n\".join([doc.page_content for doc in docs])\n",
    "        except Exception as e:\n",
    "            logger.error(f\"Error getting context: {str(e)}\")\n",
    "            return \"Error retrieving context\"\n",
    "\n",
    "    def create_fund_prompt(question: str, context: str) -> str:\n",
    "        return f\"\"\"Based on the following fund document information, please answer this question: {question}\n",
    "\n",
    "Document content:\n",
    "{context}\n",
    "\n",
    "If the information is not found in the document, please respond with \"Information not found in the document.\"\n",
    "Please provide a direct and specific answer based only on the information shown in the document.\"\"\"\n",
    "\n",
    "    # Process each question\n",
    "    print(\"Fund Document Analysis:\\n\")\n",
    "    for question in fund_questions:\n",
    "        try:\n",
    "            # Get relevant context for the question\n",
    "            context = get_relevant_context(question)\n",
    "            \n",
    "            if context == \"Error retrieving context\":\n",
    "                print(f\"Question: {question}\")\n",
    "                print(\"Answer: Unable to process question due to technical error\")\n",
    "                print(\"-\" * 80 + \"\\n\")\n",
    "                continue\n",
    "                \n",
    "            # Create a message with the question and context\n",
    "            message = HumanMessage(\n",
    "                content=create_fund_prompt(question, context)\n",
    "            )\n",
    "            \n",
    "            # Get the response from the LLM\n",
    "            response = llm.invoke([message])\n",
    "            \n",
    "            # Print the Q&A\n",
    "            print(f\"Question: {question}\")\n",
    "            print(f\"Answer: {response.content}\")\n",
    "            print(\"-\" * 80 + \"\\n\")\n",
    "        except Exception as e:\n",
    "            logger.error(f\"Error processing question '{question}': {str(e)}\")\n",
    "            print(f\"Question: {question}\")\n",
    "            print(f\"Error: {str(e)}\")\n",
    "            print(\"-\" * 80 + \"\\n\")\n",
    "\n",
    "except Exception as e:\n",
    "    logger.error(f\"Fatal error: {str(e)}\")\n",
    "    raise"
   ]
  }
 ],
 "metadata": {
  "kernelspec": {
   "display_name": "venv",
   "language": "python",
   "name": "python3"
  },
  "language_info": {
   "codemirror_mode": {
    "name": "ipython",
    "version": 3
   },
   "file_extension": ".py",
   "mimetype": "text/x-python",
   "name": "python",
   "nbconvert_exporter": "python",
   "pygments_lexer": "ipython3",
   "version": "3.10.16"
  }
 },
 "nbformat": 4,
 "nbformat_minor": 2
}
